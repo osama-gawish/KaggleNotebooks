{
 "cells": [
  {
   "cell_type": "code",
   "execution_count": 1,
   "id": "a5fdb24a",
   "metadata": {
    "_cell_guid": "b1076dfc-b9ad-4769-8c92-a6c4dae69d19",
    "_uuid": "8f2839f25d086af736a60e9eeb907d3b93b6e0e5",
    "execution": {
     "iopub.execute_input": "2023-12-15T01:25:30.004569Z",
     "iopub.status.busy": "2023-12-15T01:25:30.004095Z",
     "iopub.status.idle": "2023-12-15T01:25:31.547735Z",
     "shell.execute_reply": "2023-12-15T01:25:31.547027Z"
    },
    "papermill": {
     "duration": 1.54989,
     "end_time": "2023-12-15T01:25:31.549624",
     "exception": false,
     "start_time": "2023-12-15T01:25:29.999734",
     "status": "completed"
    },
    "tags": []
   },
   "outputs": [],
   "source": [
    "import pandas as pd\n",
    "import seaborn as sns\n",
    "import matplotlib.pyplot as plt"
   ]
  },
  {
   "cell_type": "markdown",
   "id": "aec30c5c",
   "metadata": {
    "papermill": {
     "duration": 0.002258,
     "end_time": "2023-12-15T01:25:31.554714",
     "exception": false,
     "start_time": "2023-12-15T01:25:31.552456",
     "status": "completed"
    },
    "tags": []
   },
   "source": [
    "From Dec23 to Feb24 there are 13 weeks.  \n",
    "six days each week means 78 days.  \n",
    "5 hours each day means 390 hours."
   ]
  },
  {
   "cell_type": "code",
   "execution_count": 2,
   "id": "4061222d",
   "metadata": {
    "execution": {
     "iopub.execute_input": "2023-12-15T01:25:31.560869Z",
     "iopub.status.busy": "2023-12-15T01:25:31.560215Z",
     "iopub.status.idle": "2023-12-15T01:25:31.564860Z",
     "shell.execute_reply": "2023-12-15T01:25:31.564341Z"
    },
    "papermill": {
     "duration": 0.009263,
     "end_time": "2023-12-15T01:25:31.566344",
     "exception": false,
     "start_time": "2023-12-15T01:25:31.557081",
     "status": "completed"
    },
    "tags": []
   },
   "outputs": [],
   "source": [
    "df = {\n",
    "    'date':  ['01/12', '02/12', '03/12', '04/12', '05/12', '06/12', '07/12', '08/12', '09/12', '10/12', '11/12', '12/12', '13/12', '14/12'],\n",
    "    'hours': [2.0    , 2.5    , 2.0    , 3.5    , 3.5    , 2.0    , 5.0    , 3.0    , 1.5    , 2.0    , 1.5    , 2.5    , 3.5    , 2      ],\n",
    "    'day':   ['fri'  , 'sat'  , 'sun'  , 'mon'  , 'tue'  , 'wed'  , 'thr'  , 'fri'  , 'sat'  , 'sun'  , 'mon'  , 'tue'  , 'wed'  , 'thr'  ],\n",
    "    'week':  [1      , 1      , 1      , 1      , 1      , 1      , 1      , 2      , 2      , 2      , 2      , 2      , 2      , 2      ]\n",
    "}"
   ]
  },
  {
   "cell_type": "code",
   "execution_count": 3,
   "id": "5eb04579",
   "metadata": {
    "execution": {
     "iopub.execute_input": "2023-12-15T01:25:31.572350Z",
     "iopub.status.busy": "2023-12-15T01:25:31.571705Z",
     "iopub.status.idle": "2023-12-15T01:25:31.592283Z",
     "shell.execute_reply": "2023-12-15T01:25:31.591752Z"
    },
    "papermill": {
     "duration": 0.025139,
     "end_time": "2023-12-15T01:25:31.593843",
     "exception": false,
     "start_time": "2023-12-15T01:25:31.568704",
     "status": "completed"
    },
    "tags": []
   },
   "outputs": [
    {
     "data": {
      "text/html": [
       "<div>\n",
       "<style scoped>\n",
       "    .dataframe tbody tr th:only-of-type {\n",
       "        vertical-align: middle;\n",
       "    }\n",
       "\n",
       "    .dataframe tbody tr th {\n",
       "        vertical-align: top;\n",
       "    }\n",
       "\n",
       "    .dataframe thead th {\n",
       "        text-align: right;\n",
       "    }\n",
       "</style>\n",
       "<table border=\"1\" class=\"dataframe\">\n",
       "  <thead>\n",
       "    <tr style=\"text-align: right;\">\n",
       "      <th></th>\n",
       "      <th>date</th>\n",
       "      <th>hours</th>\n",
       "      <th>day</th>\n",
       "      <th>week</th>\n",
       "    </tr>\n",
       "  </thead>\n",
       "  <tbody>\n",
       "    <tr>\n",
       "      <th>0</th>\n",
       "      <td>01/12</td>\n",
       "      <td>2.0</td>\n",
       "      <td>fri</td>\n",
       "      <td>1</td>\n",
       "    </tr>\n",
       "    <tr>\n",
       "      <th>1</th>\n",
       "      <td>02/12</td>\n",
       "      <td>2.5</td>\n",
       "      <td>sat</td>\n",
       "      <td>1</td>\n",
       "    </tr>\n",
       "    <tr>\n",
       "      <th>2</th>\n",
       "      <td>03/12</td>\n",
       "      <td>2.0</td>\n",
       "      <td>sun</td>\n",
       "      <td>1</td>\n",
       "    </tr>\n",
       "    <tr>\n",
       "      <th>3</th>\n",
       "      <td>04/12</td>\n",
       "      <td>3.5</td>\n",
       "      <td>mon</td>\n",
       "      <td>1</td>\n",
       "    </tr>\n",
       "    <tr>\n",
       "      <th>4</th>\n",
       "      <td>05/12</td>\n",
       "      <td>3.5</td>\n",
       "      <td>tue</td>\n",
       "      <td>1</td>\n",
       "    </tr>\n",
       "    <tr>\n",
       "      <th>5</th>\n",
       "      <td>06/12</td>\n",
       "      <td>2.0</td>\n",
       "      <td>wed</td>\n",
       "      <td>1</td>\n",
       "    </tr>\n",
       "    <tr>\n",
       "      <th>6</th>\n",
       "      <td>07/12</td>\n",
       "      <td>5.0</td>\n",
       "      <td>thr</td>\n",
       "      <td>1</td>\n",
       "    </tr>\n",
       "    <tr>\n",
       "      <th>7</th>\n",
       "      <td>08/12</td>\n",
       "      <td>3.0</td>\n",
       "      <td>fri</td>\n",
       "      <td>2</td>\n",
       "    </tr>\n",
       "    <tr>\n",
       "      <th>8</th>\n",
       "      <td>09/12</td>\n",
       "      <td>1.5</td>\n",
       "      <td>sat</td>\n",
       "      <td>2</td>\n",
       "    </tr>\n",
       "    <tr>\n",
       "      <th>9</th>\n",
       "      <td>10/12</td>\n",
       "      <td>2.0</td>\n",
       "      <td>sun</td>\n",
       "      <td>2</td>\n",
       "    </tr>\n",
       "    <tr>\n",
       "      <th>10</th>\n",
       "      <td>11/12</td>\n",
       "      <td>1.5</td>\n",
       "      <td>mon</td>\n",
       "      <td>2</td>\n",
       "    </tr>\n",
       "    <tr>\n",
       "      <th>11</th>\n",
       "      <td>12/12</td>\n",
       "      <td>2.5</td>\n",
       "      <td>tue</td>\n",
       "      <td>2</td>\n",
       "    </tr>\n",
       "    <tr>\n",
       "      <th>12</th>\n",
       "      <td>13/12</td>\n",
       "      <td>3.5</td>\n",
       "      <td>wed</td>\n",
       "      <td>2</td>\n",
       "    </tr>\n",
       "    <tr>\n",
       "      <th>13</th>\n",
       "      <td>14/12</td>\n",
       "      <td>2.0</td>\n",
       "      <td>thr</td>\n",
       "      <td>2</td>\n",
       "    </tr>\n",
       "  </tbody>\n",
       "</table>\n",
       "</div>"
      ],
      "text/plain": [
       "     date  hours  day  week\n",
       "0   01/12    2.0  fri     1\n",
       "1   02/12    2.5  sat     1\n",
       "2   03/12    2.0  sun     1\n",
       "3   04/12    3.5  mon     1\n",
       "4   05/12    3.5  tue     1\n",
       "5   06/12    2.0  wed     1\n",
       "6   07/12    5.0  thr     1\n",
       "7   08/12    3.0  fri     2\n",
       "8   09/12    1.5  sat     2\n",
       "9   10/12    2.0  sun     2\n",
       "10  11/12    1.5  mon     2\n",
       "11  12/12    2.5  tue     2\n",
       "12  13/12    3.5  wed     2\n",
       "13  14/12    2.0  thr     2"
      ]
     },
     "execution_count": 3,
     "metadata": {},
     "output_type": "execute_result"
    }
   ],
   "source": [
    "df = pd.DataFrame(df)\n",
    "df\n"
   ]
  },
  {
   "cell_type": "code",
   "execution_count": 4,
   "id": "a381920b",
   "metadata": {
    "execution": {
     "iopub.execute_input": "2023-12-15T01:25:31.600009Z",
     "iopub.status.busy": "2023-12-15T01:25:31.599791Z",
     "iopub.status.idle": "2023-12-15T01:25:31.608823Z",
     "shell.execute_reply": "2023-12-15T01:25:31.608182Z"
    },
    "papermill": {
     "duration": 0.013834,
     "end_time": "2023-12-15T01:25:31.610431",
     "exception": false,
     "start_time": "2023-12-15T01:25:31.596597",
     "status": "completed"
    },
    "tags": []
   },
   "outputs": [
    {
     "name": "stdout",
     "output_type": "stream",
     "text": [
      "2.607142857142857\n"
     ]
    },
    {
     "data": {
      "text/plain": [
       "36.5"
      ]
     },
     "execution_count": 4,
     "metadata": {},
     "output_type": "execute_result"
    }
   ],
   "source": [
    "print(df['hours'].mean())\n",
    "df['hours'].sum()"
   ]
  },
  {
   "cell_type": "code",
   "execution_count": 5,
   "id": "ab8d5c67",
   "metadata": {
    "execution": {
     "iopub.execute_input": "2023-12-15T01:25:31.616727Z",
     "iopub.status.busy": "2023-12-15T01:25:31.616480Z",
     "iopub.status.idle": "2023-12-15T01:25:31.638547Z",
     "shell.execute_reply": "2023-12-15T01:25:31.637907Z"
    },
    "papermill": {
     "duration": 0.027009,
     "end_time": "2023-12-15T01:25:31.640173",
     "exception": false,
     "start_time": "2023-12-15T01:25:31.613164",
     "status": "completed"
    },
    "tags": []
   },
   "outputs": [
    {
     "data": {
      "text/html": [
       "<div>\n",
       "<style scoped>\n",
       "    .dataframe tbody tr th:only-of-type {\n",
       "        vertical-align: middle;\n",
       "    }\n",
       "\n",
       "    .dataframe tbody tr th {\n",
       "        vertical-align: top;\n",
       "    }\n",
       "\n",
       "    .dataframe thead tr th {\n",
       "        text-align: left;\n",
       "    }\n",
       "\n",
       "    .dataframe thead tr:last-of-type th {\n",
       "        text-align: right;\n",
       "    }\n",
       "</style>\n",
       "<table border=\"1\" class=\"dataframe\">\n",
       "  <thead>\n",
       "    <tr>\n",
       "      <th></th>\n",
       "      <th colspan=\"2\" halign=\"left\">hours</th>\n",
       "    </tr>\n",
       "    <tr>\n",
       "      <th></th>\n",
       "      <th>sum</th>\n",
       "      <th>mean</th>\n",
       "    </tr>\n",
       "    <tr>\n",
       "      <th>week</th>\n",
       "      <th></th>\n",
       "      <th></th>\n",
       "    </tr>\n",
       "  </thead>\n",
       "  <tbody>\n",
       "    <tr>\n",
       "      <th>1</th>\n",
       "      <td>20.5</td>\n",
       "      <td>2.928571</td>\n",
       "    </tr>\n",
       "    <tr>\n",
       "      <th>2</th>\n",
       "      <td>16.0</td>\n",
       "      <td>2.285714</td>\n",
       "    </tr>\n",
       "  </tbody>\n",
       "</table>\n",
       "</div>"
      ],
      "text/plain": [
       "     hours          \n",
       "       sum      mean\n",
       "week                \n",
       "1     20.5  2.928571\n",
       "2     16.0  2.285714"
      ]
     },
     "execution_count": 5,
     "metadata": {},
     "output_type": "execute_result"
    }
   ],
   "source": [
    "df.groupby('week').agg({'hours': ['sum','mean']})"
   ]
  },
  {
   "cell_type": "code",
   "execution_count": 6,
   "id": "4a41446a",
   "metadata": {
    "execution": {
     "iopub.execute_input": "2023-12-15T01:25:31.647198Z",
     "iopub.status.busy": "2023-12-15T01:25:31.646839Z",
     "iopub.status.idle": "2023-12-15T01:25:31.655138Z",
     "shell.execute_reply": "2023-12-15T01:25:31.654628Z"
    },
    "papermill": {
     "duration": 0.013412,
     "end_time": "2023-12-15T01:25:31.656679",
     "exception": false,
     "start_time": "2023-12-15T01:25:31.643267",
     "status": "completed"
    },
    "tags": []
   },
   "outputs": [
    {
     "data": {
      "text/html": [
       "<div>\n",
       "<style scoped>\n",
       "    .dataframe tbody tr th:only-of-type {\n",
       "        vertical-align: middle;\n",
       "    }\n",
       "\n",
       "    .dataframe tbody tr th {\n",
       "        vertical-align: top;\n",
       "    }\n",
       "\n",
       "    .dataframe thead th {\n",
       "        text-align: right;\n",
       "    }\n",
       "</style>\n",
       "<table border=\"1\" class=\"dataframe\">\n",
       "  <thead>\n",
       "    <tr style=\"text-align: right;\">\n",
       "      <th></th>\n",
       "      <th>hours</th>\n",
       "    </tr>\n",
       "    <tr>\n",
       "      <th>day</th>\n",
       "      <th></th>\n",
       "    </tr>\n",
       "  </thead>\n",
       "  <tbody>\n",
       "    <tr>\n",
       "      <th>fri</th>\n",
       "      <td>2.50</td>\n",
       "    </tr>\n",
       "    <tr>\n",
       "      <th>sat</th>\n",
       "      <td>2.00</td>\n",
       "    </tr>\n",
       "    <tr>\n",
       "      <th>sun</th>\n",
       "      <td>2.00</td>\n",
       "    </tr>\n",
       "    <tr>\n",
       "      <th>mon</th>\n",
       "      <td>2.50</td>\n",
       "    </tr>\n",
       "    <tr>\n",
       "      <th>tue</th>\n",
       "      <td>3.00</td>\n",
       "    </tr>\n",
       "    <tr>\n",
       "      <th>wed</th>\n",
       "      <td>2.75</td>\n",
       "    </tr>\n",
       "    <tr>\n",
       "      <th>thr</th>\n",
       "      <td>3.50</td>\n",
       "    </tr>\n",
       "  </tbody>\n",
       "</table>\n",
       "</div>"
      ],
      "text/plain": [
       "     hours\n",
       "day       \n",
       "fri   2.50\n",
       "sat   2.00\n",
       "sun   2.00\n",
       "mon   2.50\n",
       "tue   3.00\n",
       "wed   2.75\n",
       "thr   3.50"
      ]
     },
     "execution_count": 6,
     "metadata": {},
     "output_type": "execute_result"
    }
   ],
   "source": [
    "df.groupby('day', sort = False).agg({'hours': 'mean'})"
   ]
  },
  {
   "cell_type": "code",
   "execution_count": 7,
   "id": "dc5edf22",
   "metadata": {
    "execution": {
     "iopub.execute_input": "2023-12-15T01:25:31.663748Z",
     "iopub.status.busy": "2023-12-15T01:25:31.663529Z",
     "iopub.status.idle": "2023-12-15T01:25:31.966920Z",
     "shell.execute_reply": "2023-12-15T01:25:31.966350Z"
    },
    "papermill": {
     "duration": 0.308611,
     "end_time": "2023-12-15T01:25:31.968416",
     "exception": false,
     "start_time": "2023-12-15T01:25:31.659805",
     "status": "completed"
    },
    "tags": []
   },
   "outputs": [
    {
     "data": {
      "text/plain": [
       "<Axes: xlabel='date', ylabel='hours'>"
      ]
     },
     "execution_count": 7,
     "metadata": {},
     "output_type": "execute_result"
    },
    {
     "data": {
      "image/png": "[encoded data removed]",
      "text/plain": [
       "<Figure size 640x480 with 1 Axes>"
      ]
     },
     "metadata": {},
     "output_type": "display_data"
    }
   ],
   "source": [
    "sns.barplot(x = df['date'], y = df['hours'])"
   ]
  },
  {
   "cell_type": "code",
   "execution_count": 8,
   "id": "3449464d",
   "metadata": {
    "execution": {
     "iopub.execute_input": "2023-12-15T01:25:31.976475Z",
     "iopub.status.busy": "2023-12-15T01:25:31.976229Z",
     "iopub.status.idle": "2023-12-15T01:25:32.111937Z",
     "shell.execute_reply": "2023-12-15T01:25:32.111062Z"
    },
    "papermill": {
     "duration": 0.142136,
     "end_time": "2023-12-15T01:25:32.114033",
     "exception": false,
     "start_time": "2023-12-15T01:25:31.971897",
     "status": "completed"
    },
    "tags": []
   },
   "outputs": [
    {
     "data": {
      "image/png": "[encoded data removed]",
      "text/plain": [
       "<Figure size 640x480 with 1 Axes>"
      ]
     },
     "metadata": {},
     "output_type": "display_data"
    }
   ],
   "source": [
    "completed = df['hours'].sum()\n",
    "remaining = 390 - completed\n",
    "\n",
    "# Seaborn style settings (optional but can enhance aesthetics)\n",
    "sns.set(style=\"whitegrid\")\n",
    "\n",
    "# Data for the donut chart\n",
    "sizes = [completed, remaining]\n",
    "labels = ['Completed', 'Remaining']\n",
    "colors = ['green', 'red']  # Specify colors for completed and remaining portions\n",
    "\n",
    "# Create a donut chart using Matplotlib's plt.pie()\n",
    "plt.pie(sizes, labels=labels, autopct=lambda p: '{:.0f}'.format(p * sum(sizes) / 100), startangle=90, wedgeprops=dict(width=0.6), colors=colors)\n",
    "\n",
    "# Draw a circle in the center to create the hole\n",
    "centre_circle = plt.Circle((0, 0), 0.3, color='white', fc='white', linewidth=1.25)\n",
    "fig = plt.gcf()\n",
    "fig.gca().add_artist(centre_circle)\n",
    "\n",
    "# Equal aspect ratio ensures that pie is drawn as a circle.\n",
    "plt.axis('equal')\n",
    "\n",
    "# Title to represent the task\n",
    "plt.title('Progress')\n",
    "\n",
    "# Show the plot\n",
    "plt.show()"
   ]
  },
  {
   "cell_type": "code",
   "execution_count": null,
   "id": "bac14ba3",
   "metadata": {
    "papermill": {
     "duration": 0.004595,
     "end_time": "2023-12-15T01:25:32.123556",
     "exception": false,
     "start_time": "2023-12-15T01:25:32.118961",
     "status": "completed"
    },
    "tags": []
   },
   "outputs": [],
   "source": []
  }
 ],
 "metadata": {
  "kaggle": {
   "accelerator": "none",
   "dataSources": [],
   "dockerImageVersionId": 30615,
   "isGpuEnabled": false,
   "isInternetEnabled": true,
   "language": "python",
   "sourceType": "notebook"
  },
  "kernelspec": {
   "display_name": "Python 3",
   "language": "python",
   "name": "python3"
  },
  "language_info": {
   "codemirror_mode": {
    "name": "ipython",
    "version": 3
   },
   "file_extension": ".py",
   "mimetype": "text/x-python",
   "name": "python",
   "nbconvert_exporter": "python",
   "pygments_lexer": "ipython3",
   "version": "3.10.12"
  },
  "papermill": {
   "default_parameters": {},
   "duration": 5.020703,
   "end_time": "2023-12-15T01:25:32.546116",
   "environment_variables": {},
   "exception": null,
   "input_path": "__notebook__.ipynb",
   "output_path": "__notebook__.ipynb",
   "parameters": {},
   "start_time": "2023-12-15T01:25:27.525413",
   "version": "2.4.0"
  }
 },
 "nbformat": 4,
 "nbformat_minor": 5
}
