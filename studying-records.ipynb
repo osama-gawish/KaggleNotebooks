{
 "cells": [
  {
   "cell_type": "code",
   "execution_count": 1,
   "id": "fea13e56",
   "metadata": {
    "_cell_guid": "b1076dfc-b9ad-4769-8c92-a6c4dae69d19",
    "_uuid": "8f2839f25d086af736a60e9eeb907d3b93b6e0e5",
    "execution": {
     "iopub.execute_input": "2023-12-13T02:05:59.049083Z",
     "iopub.status.busy": "2023-12-13T02:05:59.047906Z",
     "iopub.status.idle": "2023-12-13T02:06:01.076614Z",
     "shell.execute_reply": "2023-12-13T02:06:01.075596Z"
    },
    "papermill": {
     "duration": 2.03672,
     "end_time": "2023-12-13T02:06:01.079338",
     "exception": false,
     "start_time": "2023-12-13T02:05:59.042618",
     "status": "completed"
    },
    "tags": []
   },
   "outputs": [],
   "source": [
    "import pandas as pd\n",
    "import seaborn as sns"
   ]
  },
  {
   "cell_type": "code",
   "execution_count": 2,
   "id": "1b4f1651",
   "metadata": {
    "execution": {
     "iopub.execute_input": "2023-12-13T02:06:01.088224Z",
     "iopub.status.busy": "2023-12-13T02:06:01.087171Z",
     "iopub.status.idle": "2023-12-13T02:06:01.093802Z",
     "shell.execute_reply": "2023-12-13T02:06:01.092736Z"
    },
    "papermill": {
     "duration": 0.013353,
     "end_time": "2023-12-13T02:06:01.096042",
     "exception": false,
     "start_time": "2023-12-13T02:06:01.082689",
     "status": "completed"
    },
    "tags": []
   },
   "outputs": [],
   "source": [
    "studying_records = {\n",
    "    'date':  ['01/12', '02/12', '03/12', '04/12', '05/12', '06/12', '07/12', '08/12', '09/12', '10/12', '11/12', '12/12'],\n",
    "    'hours': [2.0    , 2.5    , 2.0    , 3.5    , 3.5    , 2.0    , 5.0    , 3.0    , 1.5    , 2.0    , 1.5    , 2.5    ]\n",
    "}"
   ]
  },
  {
   "cell_type": "code",
   "execution_count": 3,
   "id": "01058113",
   "metadata": {
    "execution": {
     "iopub.execute_input": "2023-12-13T02:06:01.103815Z",
     "iopub.status.busy": "2023-12-13T02:06:01.103432Z",
     "iopub.status.idle": "2023-12-13T02:06:01.132269Z",
     "shell.execute_reply": "2023-12-13T02:06:01.131023Z"
    },
    "papermill": {
     "duration": 0.035652,
     "end_time": "2023-12-13T02:06:01.134760",
     "exception": false,
     "start_time": "2023-12-13T02:06:01.099108",
     "status": "completed"
    },
    "tags": []
   },
   "outputs": [
    {
     "data": {
      "text/html": [
       "<div>\n",
       "<style scoped>\n",
       "    .dataframe tbody tr th:only-of-type {\n",
       "        vertical-align: middle;\n",
       "    }\n",
       "\n",
       "    .dataframe tbody tr th {\n",
       "        vertical-align: top;\n",
       "    }\n",
       "\n",
       "    .dataframe thead th {\n",
       "        text-align: right;\n",
       "    }\n",
       "</style>\n",
       "<table border=\"1\" class=\"dataframe\">\n",
       "  <thead>\n",
       "    <tr style=\"text-align: right;\">\n",
       "      <th></th>\n",
       "      <th>date</th>\n",
       "      <th>hours</th>\n",
       "    </tr>\n",
       "  </thead>\n",
       "  <tbody>\n",
       "    <tr>\n",
       "      <th>0</th>\n",
       "      <td>01/12</td>\n",
       "      <td>2.0</td>\n",
       "    </tr>\n",
       "    <tr>\n",
       "      <th>1</th>\n",
       "      <td>02/12</td>\n",
       "      <td>2.5</td>\n",
       "    </tr>\n",
       "    <tr>\n",
       "      <th>2</th>\n",
       "      <td>03/12</td>\n",
       "      <td>2.0</td>\n",
       "    </tr>\n",
       "    <tr>\n",
       "      <th>3</th>\n",
       "      <td>04/12</td>\n",
       "      <td>3.5</td>\n",
       "    </tr>\n",
       "    <tr>\n",
       "      <th>4</th>\n",
       "      <td>05/12</td>\n",
       "      <td>3.5</td>\n",
       "    </tr>\n",
       "    <tr>\n",
       "      <th>5</th>\n",
       "      <td>06/12</td>\n",
       "      <td>2.0</td>\n",
       "    </tr>\n",
       "    <tr>\n",
       "      <th>6</th>\n",
       "      <td>07/12</td>\n",
       "      <td>5.0</td>\n",
       "    </tr>\n",
       "    <tr>\n",
       "      <th>7</th>\n",
       "      <td>08/12</td>\n",
       "      <td>3.0</td>\n",
       "    </tr>\n",
       "    <tr>\n",
       "      <th>8</th>\n",
       "      <td>09/12</td>\n",
       "      <td>1.5</td>\n",
       "    </tr>\n",
       "    <tr>\n",
       "      <th>9</th>\n",
       "      <td>10/12</td>\n",
       "      <td>2.0</td>\n",
       "    </tr>\n",
       "    <tr>\n",
       "      <th>10</th>\n",
       "      <td>11/12</td>\n",
       "      <td>1.5</td>\n",
       "    </tr>\n",
       "    <tr>\n",
       "      <th>11</th>\n",
       "      <td>12/12</td>\n",
       "      <td>2.5</td>\n",
       "    </tr>\n",
       "  </tbody>\n",
       "</table>\n",
       "</div>"
      ],
      "text/plain": [
       "     date  hours\n",
       "0   01/12    2.0\n",
       "1   02/12    2.5\n",
       "2   03/12    2.0\n",
       "3   04/12    3.5\n",
       "4   05/12    3.5\n",
       "5   06/12    2.0\n",
       "6   07/12    5.0\n",
       "7   08/12    3.0\n",
       "8   09/12    1.5\n",
       "9   10/12    2.0\n",
       "10  11/12    1.5\n",
       "11  12/12    2.5"
      ]
     },
     "execution_count": 3,
     "metadata": {},
     "output_type": "execute_result"
    }
   ],
   "source": [
    "studying_records = pd.DataFrame(studying_records)\n",
    "studying_records\n"
   ]
  },
  {
   "cell_type": "code",
   "execution_count": 4,
   "id": "7f4e7859",
   "metadata": {
    "execution": {
     "iopub.execute_input": "2023-12-13T02:06:01.143987Z",
     "iopub.status.busy": "2023-12-13T02:06:01.142879Z",
     "iopub.status.idle": "2023-12-13T02:06:01.154723Z",
     "shell.execute_reply": "2023-12-13T02:06:01.153310Z"
    },
    "papermill": {
     "duration": 0.020156,
     "end_time": "2023-12-13T02:06:01.158431",
     "exception": false,
     "start_time": "2023-12-13T02:06:01.138275",
     "status": "completed"
    },
    "tags": []
   },
   "outputs": [
    {
     "name": "stdout",
     "output_type": "stream",
     "text": [
      "2.5833333333333335\n"
     ]
    },
    {
     "data": {
      "text/plain": [
       "31.0"
      ]
     },
     "execution_count": 4,
     "metadata": {},
     "output_type": "execute_result"
    }
   ],
   "source": [
    "print(studying_records['hours'].mean())\n",
    "studying_records['hours'].sum()"
   ]
  },
  {
   "cell_type": "code",
   "execution_count": 5,
   "id": "15dca511",
   "metadata": {
    "execution": {
     "iopub.execute_input": "2023-12-13T02:06:01.167852Z",
     "iopub.status.busy": "2023-12-13T02:06:01.167463Z",
     "iopub.status.idle": "2023-12-13T02:06:01.643160Z",
     "shell.execute_reply": "2023-12-13T02:06:01.641770Z"
    },
    "papermill": {
     "duration": 0.483493,
     "end_time": "2023-12-13T02:06:01.645799",
     "exception": false,
     "start_time": "2023-12-13T02:06:01.162306",
     "status": "completed"
    },
    "tags": []
   },
   "outputs": [
    {
     "data": {
      "text/plain": [
       "<Axes: xlabel='date', ylabel='hours'>"
      ]
     },
     "execution_count": 5,
     "metadata": {},
     "output_type": "execute_result"
    },
    {
     "data": {
      "image/png": "[encoded data removed]",
      "text/plain": [
       "<Figure size 640x480 with 1 Axes>"
      ]
     },
     "metadata": {},
     "output_type": "display_data"
    }
   ],
   "source": [
    "sns.barplot(x = studying_records['date'], y = studying_records['hours'])"
   ]
  },
  {
   "cell_type": "code",
   "execution_count": null,
   "id": "0c65584c",
   "metadata": {
    "papermill": {
     "duration": 0.003745,
     "end_time": "2023-12-13T02:06:01.653661",
     "exception": false,
     "start_time": "2023-12-13T02:06:01.649916",
     "status": "completed"
    },
    "tags": []
   },
   "outputs": [],
   "source": []
  }
 ],
 "metadata": {
  "kaggle": {
   "accelerator": "none",
   "dataSources": [],
   "dockerImageVersionId": 30615,
   "isGpuEnabled": false,
   "isInternetEnabled": true,
   "language": "python",
   "sourceType": "notebook"
  },
  "kernelspec": {
   "display_name": "Python 3",
   "language": "python",
   "name": "python3"
  },
  "language_info": {
   "codemirror_mode": {
    "name": "ipython",
    "version": 3
   },
   "file_extension": ".py",
   "mimetype": "text/x-python",
   "name": "python",
   "nbconvert_exporter": "python",
   "pygments_lexer": "ipython3",
   "version": "3.10.12"
  },
  "papermill": {
   "default_parameters": {},
   "duration": 6.745851,
   "end_time": "2023-12-13T02:06:02.279766",
   "environment_variables": {},
   "exception": null,
   "input_path": "__notebook__.ipynb",
   "output_path": "__notebook__.ipynb",
   "parameters": {},
   "start_time": "2023-12-13T02:05:55.533915",
   "version": "2.4.0"
  }
 },
 "nbformat": 4,
 "nbformat_minor": 5
}
