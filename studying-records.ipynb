{
 "cells": [
  {
   "cell_type": "code",
   "execution_count": 1,
   "id": "8d2efdd9",
   "metadata": {
    "_cell_guid": "b1076dfc-b9ad-4769-8c92-a6c4dae69d19",
    "_uuid": "8f2839f25d086af736a60e9eeb907d3b93b6e0e5",
    "execution": {
     "iopub.execute_input": "2023-12-18T22:57:45.860399Z",
     "iopub.status.busy": "2023-12-18T22:57:45.860033Z",
     "iopub.status.idle": "2023-12-18T22:57:47.843153Z",
     "shell.execute_reply": "2023-12-18T22:57:47.842259Z"
    },
    "papermill": {
     "duration": 1.991135,
     "end_time": "2023-12-18T22:57:47.845564",
     "exception": false,
     "start_time": "2023-12-18T22:57:45.854429",
     "status": "completed"
    },
    "tags": []
   },
   "outputs": [],
   "source": [
    "import pandas as pd\n",
    "import seaborn as sns\n",
    "import matplotlib.pyplot as plt"
   ]
  },
  {
   "cell_type": "markdown",
   "id": "886c1e9b",
   "metadata": {
    "papermill": {
     "duration": 0.002965,
     "end_time": "2023-12-18T22:57:47.852173",
     "exception": false,
     "start_time": "2023-12-18T22:57:47.849208",
     "status": "completed"
    },
    "tags": []
   },
   "source": [
    "From Dec23 to Feb24 there are 13 weeks.  \n",
    "six days each week means 78 days.  \n",
    "5 hours each day means 390 hours."
   ]
  },
  {
   "cell_type": "code",
   "execution_count": 2,
   "id": "cdaf3de5",
   "metadata": {
    "execution": {
     "iopub.execute_input": "2023-12-18T22:57:47.860311Z",
     "iopub.status.busy": "2023-12-18T22:57:47.859821Z",
     "iopub.status.idle": "2023-12-18T22:57:47.866597Z",
     "shell.execute_reply": "2023-12-18T22:57:47.865401Z"
    },
    "papermill": {
     "duration": 0.013624,
     "end_time": "2023-12-18T22:57:47.868971",
     "exception": false,
     "start_time": "2023-12-18T22:57:47.855347",
     "status": "completed"
    },
    "tags": []
   },
   "outputs": [],
   "source": [
    "df = {\n",
    "    'date':  ['01/12', '02/12', '03/12', '04/12', '05/12', '06/12', '07/12', '08/12', '09/12', '10/12', '11/12', '12/12', '13/12', '14/12', '15/12', '16/12', '17/12', '18/12'],\n",
    "    'hours': [2.0    , 2.5    , 2.0    , 3.5    , 3.5    , 2.0    , 5.0    , 3.0    , 1.5    , 2.0    , 1.5    , 2.5    , 3.5    , 2      , 3.5    , 2.5    , 2      , 3      ],\n",
    "    'day':   ['fri'  , 'sat'  , 'sun'  , 'mon'  , 'tue'  , 'wed'  , 'thr'  , 'fri'  , 'sat'  , 'sun'  , 'mon'  , 'tue'  , 'wed'  , 'thr'  , 'fri'  , 'sat'  , 'sun'  , 'mon'  ],\n",
    "    'week':  [1      , 1      , 1      , 1      , 1      , 1      , 1      , 2      , 2      , 2      , 2      , 2      , 2      , 2      , 3      , 3      , 3      , 3      ]\n",
    "}"
   ]
  },
  {
   "cell_type": "code",
   "execution_count": 3,
   "id": "175b621e",
   "metadata": {
    "execution": {
     "iopub.execute_input": "2023-12-18T22:57:47.876637Z",
     "iopub.status.busy": "2023-12-18T22:57:47.876304Z",
     "iopub.status.idle": "2023-12-18T22:57:47.901901Z",
     "shell.execute_reply": "2023-12-18T22:57:47.900843Z"
    },
    "papermill": {
     "duration": 0.031903,
     "end_time": "2023-12-18T22:57:47.904100",
     "exception": false,
     "start_time": "2023-12-18T22:57:47.872197",
     "status": "completed"
    },
    "tags": []
   },
   "outputs": [
    {
     "data": {
      "text/html": [
       "<div>\n",
       "<style scoped>\n",
       "    .dataframe tbody tr th:only-of-type {\n",
       "        vertical-align: middle;\n",
       "    }\n",
       "\n",
       "    .dataframe tbody tr th {\n",
       "        vertical-align: top;\n",
       "    }\n",
       "\n",
       "    .dataframe thead th {\n",
       "        text-align: right;\n",
       "    }\n",
       "</style>\n",
       "<table border=\"1\" class=\"dataframe\">\n",
       "  <thead>\n",
       "    <tr style=\"text-align: right;\">\n",
       "      <th></th>\n",
       "      <th>date</th>\n",
       "      <th>hours</th>\n",
       "      <th>day</th>\n",
       "      <th>week</th>\n",
       "    </tr>\n",
       "  </thead>\n",
       "  <tbody>\n",
       "    <tr>\n",
       "      <th>0</th>\n",
       "      <td>01/12</td>\n",
       "      <td>2.0</td>\n",
       "      <td>fri</td>\n",
       "      <td>1</td>\n",
       "    </tr>\n",
       "    <tr>\n",
       "      <th>1</th>\n",
       "      <td>02/12</td>\n",
       "      <td>2.5</td>\n",
       "      <td>sat</td>\n",
       "      <td>1</td>\n",
       "    </tr>\n",
       "    <tr>\n",
       "      <th>2</th>\n",
       "      <td>03/12</td>\n",
       "      <td>2.0</td>\n",
       "      <td>sun</td>\n",
       "      <td>1</td>\n",
       "    </tr>\n",
       "    <tr>\n",
       "      <th>3</th>\n",
       "      <td>04/12</td>\n",
       "      <td>3.5</td>\n",
       "      <td>mon</td>\n",
       "      <td>1</td>\n",
       "    </tr>\n",
       "    <tr>\n",
       "      <th>4</th>\n",
       "      <td>05/12</td>\n",
       "      <td>3.5</td>\n",
       "      <td>tue</td>\n",
       "      <td>1</td>\n",
       "    </tr>\n",
       "    <tr>\n",
       "      <th>5</th>\n",
       "      <td>06/12</td>\n",
       "      <td>2.0</td>\n",
       "      <td>wed</td>\n",
       "      <td>1</td>\n",
       "    </tr>\n",
       "    <tr>\n",
       "      <th>6</th>\n",
       "      <td>07/12</td>\n",
       "      <td>5.0</td>\n",
       "      <td>thr</td>\n",
       "      <td>1</td>\n",
       "    </tr>\n",
       "    <tr>\n",
       "      <th>7</th>\n",
       "      <td>08/12</td>\n",
       "      <td>3.0</td>\n",
       "      <td>fri</td>\n",
       "      <td>2</td>\n",
       "    </tr>\n",
       "    <tr>\n",
       "      <th>8</th>\n",
       "      <td>09/12</td>\n",
       "      <td>1.5</td>\n",
       "      <td>sat</td>\n",
       "      <td>2</td>\n",
       "    </tr>\n",
       "    <tr>\n",
       "      <th>9</th>\n",
       "      <td>10/12</td>\n",
       "      <td>2.0</td>\n",
       "      <td>sun</td>\n",
       "      <td>2</td>\n",
       "    </tr>\n",
       "    <tr>\n",
       "      <th>10</th>\n",
       "      <td>11/12</td>\n",
       "      <td>1.5</td>\n",
       "      <td>mon</td>\n",
       "      <td>2</td>\n",
       "    </tr>\n",
       "    <tr>\n",
       "      <th>11</th>\n",
       "      <td>12/12</td>\n",
       "      <td>2.5</td>\n",
       "      <td>tue</td>\n",
       "      <td>2</td>\n",
       "    </tr>\n",
       "    <tr>\n",
       "      <th>12</th>\n",
       "      <td>13/12</td>\n",
       "      <td>3.5</td>\n",
       "      <td>wed</td>\n",
       "      <td>2</td>\n",
       "    </tr>\n",
       "    <tr>\n",
       "      <th>13</th>\n",
       "      <td>14/12</td>\n",
       "      <td>2.0</td>\n",
       "      <td>thr</td>\n",
       "      <td>2</td>\n",
       "    </tr>\n",
       "    <tr>\n",
       "      <th>14</th>\n",
       "      <td>15/12</td>\n",
       "      <td>3.5</td>\n",
       "      <td>fri</td>\n",
       "      <td>3</td>\n",
       "    </tr>\n",
       "    <tr>\n",
       "      <th>15</th>\n",
       "      <td>16/12</td>\n",
       "      <td>2.5</td>\n",
       "      <td>sat</td>\n",
       "      <td>3</td>\n",
       "    </tr>\n",
       "    <tr>\n",
       "      <th>16</th>\n",
       "      <td>17/12</td>\n",
       "      <td>2.0</td>\n",
       "      <td>sun</td>\n",
       "      <td>3</td>\n",
       "    </tr>\n",
       "    <tr>\n",
       "      <th>17</th>\n",
       "      <td>18/12</td>\n",
       "      <td>3.0</td>\n",
       "      <td>mon</td>\n",
       "      <td>3</td>\n",
       "    </tr>\n",
       "  </tbody>\n",
       "</table>\n",
       "</div>"
      ],
      "text/plain": [
       "     date  hours  day  week\n",
       "0   01/12    2.0  fri     1\n",
       "1   02/12    2.5  sat     1\n",
       "2   03/12    2.0  sun     1\n",
       "3   04/12    3.5  mon     1\n",
       "4   05/12    3.5  tue     1\n",
       "5   06/12    2.0  wed     1\n",
       "6   07/12    5.0  thr     1\n",
       "7   08/12    3.0  fri     2\n",
       "8   09/12    1.5  sat     2\n",
       "9   10/12    2.0  sun     2\n",
       "10  11/12    1.5  mon     2\n",
       "11  12/12    2.5  tue     2\n",
       "12  13/12    3.5  wed     2\n",
       "13  14/12    2.0  thr     2\n",
       "14  15/12    3.5  fri     3\n",
       "15  16/12    2.5  sat     3\n",
       "16  17/12    2.0  sun     3\n",
       "17  18/12    3.0  mon     3"
      ]
     },
     "execution_count": 3,
     "metadata": {},
     "output_type": "execute_result"
    }
   ],
   "source": [
    "df = pd.DataFrame(df)\n",
    "df"
   ]
  },
  {
   "cell_type": "code",
   "execution_count": 4,
   "id": "fbf9930e",
   "metadata": {
    "execution": {
     "iopub.execute_input": "2023-12-18T22:57:47.913776Z",
     "iopub.status.busy": "2023-12-18T22:57:47.913186Z",
     "iopub.status.idle": "2023-12-18T22:57:47.922388Z",
     "shell.execute_reply": "2023-12-18T22:57:47.921369Z"
    },
    "papermill": {
     "duration": 0.016919,
     "end_time": "2023-12-18T22:57:47.924590",
     "exception": false,
     "start_time": "2023-12-18T22:57:47.907671",
     "status": "completed"
    },
    "tags": []
   },
   "outputs": [
    {
     "name": "stdout",
     "output_type": "stream",
     "text": [
      "2.638888888888889\n"
     ]
    },
    {
     "data": {
      "text/plain": [
       "47.5"
      ]
     },
     "execution_count": 4,
     "metadata": {},
     "output_type": "execute_result"
    }
   ],
   "source": [
    "print(df['hours'].mean())\n",
    "df['hours'].sum()"
   ]
  },
  {
   "cell_type": "code",
   "execution_count": 5,
   "id": "1d78564a",
   "metadata": {
    "execution": {
     "iopub.execute_input": "2023-12-18T22:57:47.934173Z",
     "iopub.status.busy": "2023-12-18T22:57:47.933456Z",
     "iopub.status.idle": "2023-12-18T22:57:47.962872Z",
     "shell.execute_reply": "2023-12-18T22:57:47.961677Z"
    },
    "papermill": {
     "duration": 0.036821,
     "end_time": "2023-12-18T22:57:47.965088",
     "exception": false,
     "start_time": "2023-12-18T22:57:47.928267",
     "status": "completed"
    },
    "tags": []
   },
   "outputs": [
    {
     "data": {
      "text/html": [
       "<div>\n",
       "<style scoped>\n",
       "    .dataframe tbody tr th:only-of-type {\n",
       "        vertical-align: middle;\n",
       "    }\n",
       "\n",
       "    .dataframe tbody tr th {\n",
       "        vertical-align: top;\n",
       "    }\n",
       "\n",
       "    .dataframe thead tr th {\n",
       "        text-align: left;\n",
       "    }\n",
       "\n",
       "    .dataframe thead tr:last-of-type th {\n",
       "        text-align: right;\n",
       "    }\n",
       "</style>\n",
       "<table border=\"1\" class=\"dataframe\">\n",
       "  <thead>\n",
       "    <tr>\n",
       "      <th></th>\n",
       "      <th colspan=\"2\" halign=\"left\">hours</th>\n",
       "    </tr>\n",
       "    <tr>\n",
       "      <th></th>\n",
       "      <th>sum</th>\n",
       "      <th>mean</th>\n",
       "    </tr>\n",
       "    <tr>\n",
       "      <th>week</th>\n",
       "      <th></th>\n",
       "      <th></th>\n",
       "    </tr>\n",
       "  </thead>\n",
       "  <tbody>\n",
       "    <tr>\n",
       "      <th>1</th>\n",
       "      <td>20.5</td>\n",
       "      <td>2.928571</td>\n",
       "    </tr>\n",
       "    <tr>\n",
       "      <th>2</th>\n",
       "      <td>16.0</td>\n",
       "      <td>2.285714</td>\n",
       "    </tr>\n",
       "    <tr>\n",
       "      <th>3</th>\n",
       "      <td>11.0</td>\n",
       "      <td>2.750000</td>\n",
       "    </tr>\n",
       "  </tbody>\n",
       "</table>\n",
       "</div>"
      ],
      "text/plain": [
       "     hours          \n",
       "       sum      mean\n",
       "week                \n",
       "1     20.5  2.928571\n",
       "2     16.0  2.285714\n",
       "3     11.0  2.750000"
      ]
     },
     "execution_count": 5,
     "metadata": {},
     "output_type": "execute_result"
    }
   ],
   "source": [
    "df.groupby('week').agg({'hours': ['sum','mean']})"
   ]
  },
  {
   "cell_type": "code",
   "execution_count": 6,
   "id": "54276c48",
   "metadata": {
    "execution": {
     "iopub.execute_input": "2023-12-18T22:57:47.974517Z",
     "iopub.status.busy": "2023-12-18T22:57:47.974185Z",
     "iopub.status.idle": "2023-12-18T22:57:47.986862Z",
     "shell.execute_reply": "2023-12-18T22:57:47.985921Z"
    },
    "papermill": {
     "duration": 0.0197,
     "end_time": "2023-12-18T22:57:47.988796",
     "exception": false,
     "start_time": "2023-12-18T22:57:47.969096",
     "status": "completed"
    },
    "tags": []
   },
   "outputs": [
    {
     "data": {
      "text/html": [
       "<div>\n",
       "<style scoped>\n",
       "    .dataframe tbody tr th:only-of-type {\n",
       "        vertical-align: middle;\n",
       "    }\n",
       "\n",
       "    .dataframe tbody tr th {\n",
       "        vertical-align: top;\n",
       "    }\n",
       "\n",
       "    .dataframe thead th {\n",
       "        text-align: right;\n",
       "    }\n",
       "</style>\n",
       "<table border=\"1\" class=\"dataframe\">\n",
       "  <thead>\n",
       "    <tr style=\"text-align: right;\">\n",
       "      <th></th>\n",
       "      <th>hours</th>\n",
       "    </tr>\n",
       "    <tr>\n",
       "      <th>day</th>\n",
       "      <th></th>\n",
       "    </tr>\n",
       "  </thead>\n",
       "  <tbody>\n",
       "    <tr>\n",
       "      <th>fri</th>\n",
       "      <td>2.833333</td>\n",
       "    </tr>\n",
       "    <tr>\n",
       "      <th>sat</th>\n",
       "      <td>2.166667</td>\n",
       "    </tr>\n",
       "    <tr>\n",
       "      <th>sun</th>\n",
       "      <td>2.000000</td>\n",
       "    </tr>\n",
       "    <tr>\n",
       "      <th>mon</th>\n",
       "      <td>2.666667</td>\n",
       "    </tr>\n",
       "    <tr>\n",
       "      <th>tue</th>\n",
       "      <td>3.000000</td>\n",
       "    </tr>\n",
       "    <tr>\n",
       "      <th>wed</th>\n",
       "      <td>2.750000</td>\n",
       "    </tr>\n",
       "    <tr>\n",
       "      <th>thr</th>\n",
       "      <td>3.500000</td>\n",
       "    </tr>\n",
       "  </tbody>\n",
       "</table>\n",
       "</div>"
      ],
      "text/plain": [
       "        hours\n",
       "day          \n",
       "fri  2.833333\n",
       "sat  2.166667\n",
       "sun  2.000000\n",
       "mon  2.666667\n",
       "tue  3.000000\n",
       "wed  2.750000\n",
       "thr  3.500000"
      ]
     },
     "execution_count": 6,
     "metadata": {},
     "output_type": "execute_result"
    }
   ],
   "source": [
    "df.groupby('day', sort = False).agg({'hours': 'mean'})"
   ]
  },
  {
   "cell_type": "code",
   "execution_count": 7,
   "id": "6bd7b126",
   "metadata": {
    "execution": {
     "iopub.execute_input": "2023-12-18T22:57:47.998938Z",
     "iopub.status.busy": "2023-12-18T22:57:47.997954Z",
     "iopub.status.idle": "2023-12-18T22:57:48.462608Z",
     "shell.execute_reply": "2023-12-18T22:57:48.461541Z"
    },
    "papermill": {
     "duration": 0.471844,
     "end_time": "2023-12-18T22:57:48.464716",
     "exception": false,
     "start_time": "2023-12-18T22:57:47.992872",
     "status": "completed"
    },
    "tags": []
   },
   "outputs": [
    {
     "data": {
      "text/plain": [
       "<Axes: xlabel='date', ylabel='hours'>"
      ]
     },
     "execution_count": 7,
     "metadata": {},
     "output_type": "execute_result"
    },
    {
     "data": {
      "image/png": "[encoded data removed]",
      "text/plain": [
       "<Figure size 1000x600 with 1 Axes>"
      ]
     },
     "metadata": {},
     "output_type": "display_data"
    }
   ],
   "source": [
    "plt.figure(figsize=(10,6))\n",
    "sns.barplot(x = df['date'], y = df['hours'])"
   ]
  },
  {
   "cell_type": "code",
   "execution_count": 8,
   "id": "57e0af18",
   "metadata": {
    "execution": {
     "iopub.execute_input": "2023-12-18T22:57:48.475148Z",
     "iopub.status.busy": "2023-12-18T22:57:48.474741Z",
     "iopub.status.idle": "2023-12-18T22:57:48.655512Z",
     "shell.execute_reply": "2023-12-18T22:57:48.654150Z"
    },
    "papermill": {
     "duration": 0.191142,
     "end_time": "2023-12-18T22:57:48.660328",
     "exception": false,
     "start_time": "2023-12-18T22:57:48.469186",
     "status": "completed"
    },
    "tags": []
   },
   "outputs": [
    {
     "data": {
      "image/png": "[encoded data removed]",
      "text/plain": [
       "<Figure size 640x480 with 1 Axes>"
      ]
     },
     "metadata": {},
     "output_type": "display_data"
    }
   ],
   "source": [
    "completed = df['hours'].sum()\n",
    "remaining = 390 - completed\n",
    "\n",
    "# Seaborn style settings (optional but can enhance aesthetics)\n",
    "sns.set(style=\"whitegrid\")\n",
    "\n",
    "# Data for the donut chart\n",
    "sizes = [completed, remaining]\n",
    "labels = ['Completed', 'Remaining']\n",
    "colors = ['green', 'red']  # Specify colors for completed and remaining portions\n",
    "\n",
    "# Create a donut chart using Matplotlib's plt.pie()\n",
    "plt.pie(sizes, labels=labels, autopct=lambda p: '{:.0f}'.format(p * sum(sizes) / 100), startangle=90, wedgeprops=dict(width=0.6), colors=colors)\n",
    "\n",
    "# Draw a circle in the center to create the hole\n",
    "centre_circle = plt.Circle((0, 0), 0.3, color='white', fc='white', linewidth=1.25)\n",
    "fig = plt.gcf()\n",
    "fig.gca().add_artist(centre_circle)\n",
    "\n",
    "# Equal aspect ratio ensures that pie is drawn as a circle.\n",
    "plt.axis('equal')\n",
    "\n",
    "# Title to represent the task\n",
    "plt.title('Progress')\n",
    "\n",
    "# Show the plot\n",
    "plt.show()"
   ]
  },
  {
   "cell_type": "code",
   "execution_count": 9,
   "id": "b5a706d2",
   "metadata": {
    "execution": {
     "iopub.execute_input": "2023-12-18T22:57:48.679201Z",
     "iopub.status.busy": "2023-12-18T22:57:48.678693Z",
     "iopub.status.idle": "2023-12-18T22:57:48.685196Z",
     "shell.execute_reply": "2023-12-18T22:57:48.684099Z"
    },
    "papermill": {
     "duration": 0.019307,
     "end_time": "2023-12-18T22:57:48.687875",
     "exception": false,
     "start_time": "2023-12-18T22:57:48.668568",
     "status": "completed"
    },
    "tags": []
   },
   "outputs": [],
   "source": [
    "df['cumulative_hours'] = df['hours'].cumsum()"
   ]
  },
  {
   "cell_type": "code",
   "execution_count": 10,
   "id": "8aef8ca5",
   "metadata": {
    "execution": {
     "iopub.execute_input": "2023-12-18T22:57:48.706272Z",
     "iopub.status.busy": "2023-12-18T22:57:48.705453Z",
     "iopub.status.idle": "2023-12-18T22:57:49.123878Z",
     "shell.execute_reply": "2023-12-18T22:57:49.123099Z"
    },
    "papermill": {
     "duration": 0.430017,
     "end_time": "2023-12-18T22:57:49.125975",
     "exception": false,
     "start_time": "2023-12-18T22:57:48.695958",
     "status": "completed"
    },
    "tags": []
   },
   "outputs": [
    {
     "data": {
      "image/png": "[encoded data removed]",
      "text/plain": [
       "<Figure size 1000x600 with 1 Axes>"
      ]
     },
     "metadata": {},
     "output_type": "display_data"
    }
   ],
   "source": [
    "# Plotting the cumulative_hours column\n",
    "plt.figure(figsize=(10, 6))\n",
    "plt.plot(df['date'], df['cumulative_hours'], marker='o', linestyle='-', color='b')\n",
    "plt.title('Cumulative Hours Over Days')\n",
    "plt.xlabel('Date')\n",
    "plt.ylabel('Cumulative Hours')\n",
    "plt.xticks(rotation=45)\n",
    "plt.grid(True)\n",
    "plt.show()"
   ]
  }
 ],
 "metadata": {
  "kaggle": {
   "accelerator": "none",
   "dataSources": [],
   "dockerImageVersionId": 30615,
   "isGpuEnabled": false,
   "isInternetEnabled": true,
   "language": "python",
   "sourceType": "notebook"
  },
  "kernelspec": {
   "display_name": "Python 3",
   "language": "python",
   "name": "python3"
  },
  "language_info": {
   "codemirror_mode": {
    "name": "ipython",
    "version": 3
   },
   "file_extension": ".py",
   "mimetype": "text/x-python",
   "name": "python",
   "nbconvert_exporter": "python",
   "pygments_lexer": "ipython3",
   "version": "3.10.12"
  },
  "papermill": {
   "default_parameters": {},
   "duration": 7.024694,
   "end_time": "2023-12-18T22:57:49.651498",
   "environment_variables": {},
   "exception": null,
   "input_path": "__notebook__.ipynb",
   "output_path": "__notebook__.ipynb",
   "parameters": {},
   "start_time": "2023-12-18T22:57:42.626804",
   "version": "2.4.0"
  }
 },
 "nbformat": 4,
 "nbformat_minor": 5
}
