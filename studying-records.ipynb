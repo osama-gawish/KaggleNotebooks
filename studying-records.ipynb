{
 "cells": [
  {
   "cell_type": "code",
   "execution_count": 1,
   "id": "d9a76760",
   "metadata": {
    "_cell_guid": "b1076dfc-b9ad-4769-8c92-a6c4dae69d19",
    "_uuid": "8f2839f25d086af736a60e9eeb907d3b93b6e0e5",
    "execution": {
     "iopub.execute_input": "2023-12-15T17:33:23.329398Z",
     "iopub.status.busy": "2023-12-15T17:33:23.328761Z",
     "iopub.status.idle": "2023-12-15T17:33:26.020060Z",
     "shell.execute_reply": "2023-12-15T17:33:26.018800Z"
    },
    "papermill": {
     "duration": 2.700958,
     "end_time": "2023-12-15T17:33:26.023057",
     "exception": false,
     "start_time": "2023-12-15T17:33:23.322099",
     "status": "completed"
    },
    "tags": []
   },
   "outputs": [],
   "source": [
    "import pandas as pd\n",
    "import seaborn as sns\n",
    "import matplotlib.pyplot as plt"
   ]
  },
  {
   "cell_type": "markdown",
   "id": "7d4278b8",
   "metadata": {
    "papermill": {
     "duration": 0.004445,
     "end_time": "2023-12-15T17:33:26.032643",
     "exception": false,
     "start_time": "2023-12-15T17:33:26.028198",
     "status": "completed"
    },
    "tags": []
   },
   "source": [
    "From Dec23 to Feb24 there are 13 weeks.  \n",
    "six days each week means 78 days.  \n",
    "5 hours each day means 390 hours."
   ]
  },
  {
   "cell_type": "code",
   "execution_count": 2,
   "id": "a8d02519",
   "metadata": {
    "execution": {
     "iopub.execute_input": "2023-12-15T17:33:26.044751Z",
     "iopub.status.busy": "2023-12-15T17:33:26.044155Z",
     "iopub.status.idle": "2023-12-15T17:33:26.052411Z",
     "shell.execute_reply": "2023-12-15T17:33:26.051107Z"
    },
    "papermill": {
     "duration": 0.017737,
     "end_time": "2023-12-15T17:33:26.055119",
     "exception": false,
     "start_time": "2023-12-15T17:33:26.037382",
     "status": "completed"
    },
    "tags": []
   },
   "outputs": [],
   "source": [
    "df = {\n",
    "    'date':  ['01/12', '02/12', '03/12', '04/12', '05/12', '06/12', '07/12', '08/12', '09/12', '10/12', '11/12', '12/12', '13/12', '14/12'],\n",
    "    'hours': [2.0    , 2.5    , 2.0    , 3.5    , 3.5    , 2.0    , 5.0    , 3.0    , 1.5    , 2.0    , 1.5    , 2.5    , 3.5    , 2      ],\n",
    "    'day':   ['fri'  , 'sat'  , 'sun'  , 'mon'  , 'tue'  , 'wed'  , 'thr'  , 'fri'  , 'sat'  , 'sun'  , 'mon'  , 'tue'  , 'wed'  , 'thr'  ],\n",
    "    'week':  [1      , 1      , 1      , 1      , 1      , 1      , 1      , 2      , 2      , 2      , 2      , 2      , 2      , 2      ]\n",
    "}"
   ]
  },
  {
   "cell_type": "code",
   "execution_count": 3,
   "id": "710c8e0d",
   "metadata": {
    "execution": {
     "iopub.execute_input": "2023-12-15T17:33:26.068041Z",
     "iopub.status.busy": "2023-12-15T17:33:26.067167Z",
     "iopub.status.idle": "2023-12-15T17:33:26.099740Z",
     "shell.execute_reply": "2023-12-15T17:33:26.098587Z"
    },
    "papermill": {
     "duration": 0.041596,
     "end_time": "2023-12-15T17:33:26.102388",
     "exception": false,
     "start_time": "2023-12-15T17:33:26.060792",
     "status": "completed"
    },
    "tags": []
   },
   "outputs": [
    {
     "data": {
      "text/html": [
       "<div>\n",
       "<style scoped>\n",
       "    .dataframe tbody tr th:only-of-type {\n",
       "        vertical-align: middle;\n",
       "    }\n",
       "\n",
       "    .dataframe tbody tr th {\n",
       "        vertical-align: top;\n",
       "    }\n",
       "\n",
       "    .dataframe thead th {\n",
       "        text-align: right;\n",
       "    }\n",
       "</style>\n",
       "<table border=\"1\" class=\"dataframe\">\n",
       "  <thead>\n",
       "    <tr style=\"text-align: right;\">\n",
       "      <th></th>\n",
       "      <th>date</th>\n",
       "      <th>hours</th>\n",
       "      <th>day</th>\n",
       "      <th>week</th>\n",
       "    </tr>\n",
       "  </thead>\n",
       "  <tbody>\n",
       "    <tr>\n",
       "      <th>0</th>\n",
       "      <td>01/12</td>\n",
       "      <td>2.0</td>\n",
       "      <td>fri</td>\n",
       "      <td>1</td>\n",
       "    </tr>\n",
       "    <tr>\n",
       "      <th>1</th>\n",
       "      <td>02/12</td>\n",
       "      <td>2.5</td>\n",
       "      <td>sat</td>\n",
       "      <td>1</td>\n",
       "    </tr>\n",
       "    <tr>\n",
       "      <th>2</th>\n",
       "      <td>03/12</td>\n",
       "      <td>2.0</td>\n",
       "      <td>sun</td>\n",
       "      <td>1</td>\n",
       "    </tr>\n",
       "    <tr>\n",
       "      <th>3</th>\n",
       "      <td>04/12</td>\n",
       "      <td>3.5</td>\n",
       "      <td>mon</td>\n",
       "      <td>1</td>\n",
       "    </tr>\n",
       "    <tr>\n",
       "      <th>4</th>\n",
       "      <td>05/12</td>\n",
       "      <td>3.5</td>\n",
       "      <td>tue</td>\n",
       "      <td>1</td>\n",
       "    </tr>\n",
       "    <tr>\n",
       "      <th>5</th>\n",
       "      <td>06/12</td>\n",
       "      <td>2.0</td>\n",
       "      <td>wed</td>\n",
       "      <td>1</td>\n",
       "    </tr>\n",
       "    <tr>\n",
       "      <th>6</th>\n",
       "      <td>07/12</td>\n",
       "      <td>5.0</td>\n",
       "      <td>thr</td>\n",
       "      <td>1</td>\n",
       "    </tr>\n",
       "    <tr>\n",
       "      <th>7</th>\n",
       "      <td>08/12</td>\n",
       "      <td>3.0</td>\n",
       "      <td>fri</td>\n",
       "      <td>2</td>\n",
       "    </tr>\n",
       "    <tr>\n",
       "      <th>8</th>\n",
       "      <td>09/12</td>\n",
       "      <td>1.5</td>\n",
       "      <td>sat</td>\n",
       "      <td>2</td>\n",
       "    </tr>\n",
       "    <tr>\n",
       "      <th>9</th>\n",
       "      <td>10/12</td>\n",
       "      <td>2.0</td>\n",
       "      <td>sun</td>\n",
       "      <td>2</td>\n",
       "    </tr>\n",
       "    <tr>\n",
       "      <th>10</th>\n",
       "      <td>11/12</td>\n",
       "      <td>1.5</td>\n",
       "      <td>mon</td>\n",
       "      <td>2</td>\n",
       "    </tr>\n",
       "    <tr>\n",
       "      <th>11</th>\n",
       "      <td>12/12</td>\n",
       "      <td>2.5</td>\n",
       "      <td>tue</td>\n",
       "      <td>2</td>\n",
       "    </tr>\n",
       "    <tr>\n",
       "      <th>12</th>\n",
       "      <td>13/12</td>\n",
       "      <td>3.5</td>\n",
       "      <td>wed</td>\n",
       "      <td>2</td>\n",
       "    </tr>\n",
       "    <tr>\n",
       "      <th>13</th>\n",
       "      <td>14/12</td>\n",
       "      <td>2.0</td>\n",
       "      <td>thr</td>\n",
       "      <td>2</td>\n",
       "    </tr>\n",
       "  </tbody>\n",
       "</table>\n",
       "</div>"
      ],
      "text/plain": [
       "     date  hours  day  week\n",
       "0   01/12    2.0  fri     1\n",
       "1   02/12    2.5  sat     1\n",
       "2   03/12    2.0  sun     1\n",
       "3   04/12    3.5  mon     1\n",
       "4   05/12    3.5  tue     1\n",
       "5   06/12    2.0  wed     1\n",
       "6   07/12    5.0  thr     1\n",
       "7   08/12    3.0  fri     2\n",
       "8   09/12    1.5  sat     2\n",
       "9   10/12    2.0  sun     2\n",
       "10  11/12    1.5  mon     2\n",
       "11  12/12    2.5  tue     2\n",
       "12  13/12    3.5  wed     2\n",
       "13  14/12    2.0  thr     2"
      ]
     },
     "execution_count": 3,
     "metadata": {},
     "output_type": "execute_result"
    }
   ],
   "source": [
    "df = pd.DataFrame(df)\n",
    "df"
   ]
  },
  {
   "cell_type": "code",
   "execution_count": 4,
   "id": "5c9ac3d3",
   "metadata": {
    "execution": {
     "iopub.execute_input": "2023-12-15T17:33:26.114555Z",
     "iopub.status.busy": "2023-12-15T17:33:26.114123Z",
     "iopub.status.idle": "2023-12-15T17:33:26.125767Z",
     "shell.execute_reply": "2023-12-15T17:33:26.124006Z"
    },
    "papermill": {
     "duration": 0.02141,
     "end_time": "2023-12-15T17:33:26.128946",
     "exception": false,
     "start_time": "2023-12-15T17:33:26.107536",
     "status": "completed"
    },
    "tags": []
   },
   "outputs": [
    {
     "name": "stdout",
     "output_type": "stream",
     "text": [
      "2.607142857142857\n"
     ]
    },
    {
     "data": {
      "text/plain": [
       "36.5"
      ]
     },
     "execution_count": 4,
     "metadata": {},
     "output_type": "execute_result"
    }
   ],
   "source": [
    "print(df['hours'].mean())\n",
    "df['hours'].sum()"
   ]
  },
  {
   "cell_type": "code",
   "execution_count": 5,
   "id": "f609f1e4",
   "metadata": {
    "execution": {
     "iopub.execute_input": "2023-12-15T17:33:26.141805Z",
     "iopub.status.busy": "2023-12-15T17:33:26.141362Z",
     "iopub.status.idle": "2023-12-15T17:33:26.178338Z",
     "shell.execute_reply": "2023-12-15T17:33:26.177083Z"
    },
    "papermill": {
     "duration": 0.046378,
     "end_time": "2023-12-15T17:33:26.180941",
     "exception": false,
     "start_time": "2023-12-15T17:33:26.134563",
     "status": "completed"
    },
    "tags": []
   },
   "outputs": [
    {
     "data": {
      "text/html": [
       "<div>\n",
       "<style scoped>\n",
       "    .dataframe tbody tr th:only-of-type {\n",
       "        vertical-align: middle;\n",
       "    }\n",
       "\n",
       "    .dataframe tbody tr th {\n",
       "        vertical-align: top;\n",
       "    }\n",
       "\n",
       "    .dataframe thead tr th {\n",
       "        text-align: left;\n",
       "    }\n",
       "\n",
       "    .dataframe thead tr:last-of-type th {\n",
       "        text-align: right;\n",
       "    }\n",
       "</style>\n",
       "<table border=\"1\" class=\"dataframe\">\n",
       "  <thead>\n",
       "    <tr>\n",
       "      <th></th>\n",
       "      <th colspan=\"2\" halign=\"left\">hours</th>\n",
       "    </tr>\n",
       "    <tr>\n",
       "      <th></th>\n",
       "      <th>sum</th>\n",
       "      <th>mean</th>\n",
       "    </tr>\n",
       "    <tr>\n",
       "      <th>week</th>\n",
       "      <th></th>\n",
       "      <th></th>\n",
       "    </tr>\n",
       "  </thead>\n",
       "  <tbody>\n",
       "    <tr>\n",
       "      <th>1</th>\n",
       "      <td>20.5</td>\n",
       "      <td>2.928571</td>\n",
       "    </tr>\n",
       "    <tr>\n",
       "      <th>2</th>\n",
       "      <td>16.0</td>\n",
       "      <td>2.285714</td>\n",
       "    </tr>\n",
       "  </tbody>\n",
       "</table>\n",
       "</div>"
      ],
      "text/plain": [
       "     hours          \n",
       "       sum      mean\n",
       "week                \n",
       "1     20.5  2.928571\n",
       "2     16.0  2.285714"
      ]
     },
     "execution_count": 5,
     "metadata": {},
     "output_type": "execute_result"
    }
   ],
   "source": [
    "df.groupby('week').agg({'hours': ['sum','mean']})"
   ]
  },
  {
   "cell_type": "code",
   "execution_count": 6,
   "id": "502373d0",
   "metadata": {
    "execution": {
     "iopub.execute_input": "2023-12-15T17:33:26.195009Z",
     "iopub.status.busy": "2023-12-15T17:33:26.193993Z",
     "iopub.status.idle": "2023-12-15T17:33:26.215060Z",
     "shell.execute_reply": "2023-12-15T17:33:26.213731Z"
    },
    "papermill": {
     "duration": 0.03087,
     "end_time": "2023-12-15T17:33:26.217759",
     "exception": false,
     "start_time": "2023-12-15T17:33:26.186889",
     "status": "completed"
    },
    "tags": []
   },
   "outputs": [
    {
     "data": {
      "text/html": [
       "<div>\n",
       "<style scoped>\n",
       "    .dataframe tbody tr th:only-of-type {\n",
       "        vertical-align: middle;\n",
       "    }\n",
       "\n",
       "    .dataframe tbody tr th {\n",
       "        vertical-align: top;\n",
       "    }\n",
       "\n",
       "    .dataframe thead th {\n",
       "        text-align: right;\n",
       "    }\n",
       "</style>\n",
       "<table border=\"1\" class=\"dataframe\">\n",
       "  <thead>\n",
       "    <tr style=\"text-align: right;\">\n",
       "      <th></th>\n",
       "      <th>hours</th>\n",
       "    </tr>\n",
       "    <tr>\n",
       "      <th>day</th>\n",
       "      <th></th>\n",
       "    </tr>\n",
       "  </thead>\n",
       "  <tbody>\n",
       "    <tr>\n",
       "      <th>fri</th>\n",
       "      <td>2.50</td>\n",
       "    </tr>\n",
       "    <tr>\n",
       "      <th>sat</th>\n",
       "      <td>2.00</td>\n",
       "    </tr>\n",
       "    <tr>\n",
       "      <th>sun</th>\n",
       "      <td>2.00</td>\n",
       "    </tr>\n",
       "    <tr>\n",
       "      <th>mon</th>\n",
       "      <td>2.50</td>\n",
       "    </tr>\n",
       "    <tr>\n",
       "      <th>tue</th>\n",
       "      <td>3.00</td>\n",
       "    </tr>\n",
       "    <tr>\n",
       "      <th>wed</th>\n",
       "      <td>2.75</td>\n",
       "    </tr>\n",
       "    <tr>\n",
       "      <th>thr</th>\n",
       "      <td>3.50</td>\n",
       "    </tr>\n",
       "  </tbody>\n",
       "</table>\n",
       "</div>"
      ],
      "text/plain": [
       "     hours\n",
       "day       \n",
       "fri   2.50\n",
       "sat   2.00\n",
       "sun   2.00\n",
       "mon   2.50\n",
       "tue   3.00\n",
       "wed   2.75\n",
       "thr   3.50"
      ]
     },
     "execution_count": 6,
     "metadata": {},
     "output_type": "execute_result"
    }
   ],
   "source": [
    "df.groupby('day', sort = False).agg({'hours': 'mean'})"
   ]
  },
  {
   "cell_type": "code",
   "execution_count": 7,
   "id": "641f2367",
   "metadata": {
    "execution": {
     "iopub.execute_input": "2023-12-15T17:33:26.231408Z",
     "iopub.status.busy": "2023-12-15T17:33:26.230972Z",
     "iopub.status.idle": "2023-12-15T17:33:26.236947Z",
     "shell.execute_reply": "2023-12-15T17:33:26.236077Z"
    },
    "papermill": {
     "duration": 0.015569,
     "end_time": "2023-12-15T17:33:26.239246",
     "exception": false,
     "start_time": "2023-12-15T17:33:26.223677",
     "status": "completed"
    },
    "tags": []
   },
   "outputs": [],
   "source": [
    "df['cumulative_hours'] = df['hours'].cumsum()"
   ]
  },
  {
   "cell_type": "code",
   "execution_count": 8,
   "id": "bc536849",
   "metadata": {
    "execution": {
     "iopub.execute_input": "2023-12-15T17:33:26.253413Z",
     "iopub.status.busy": "2023-12-15T17:33:26.252963Z",
     "iopub.status.idle": "2023-12-15T17:33:26.674147Z",
     "shell.execute_reply": "2023-12-15T17:33:26.672882Z"
    },
    "papermill": {
     "duration": 0.431708,
     "end_time": "2023-12-15T17:33:26.676872",
     "exception": false,
     "start_time": "2023-12-15T17:33:26.245164",
     "status": "completed"
    },
    "tags": []
   },
   "outputs": [
    {
     "data": {
      "text/plain": [
       "<Axes: xlabel='date', ylabel='hours'>"
      ]
     },
     "execution_count": 8,
     "metadata": {},
     "output_type": "execute_result"
    },
    {
     "data": {
      "image/png": "[encoded data removed]",
      "text/plain": [
       "<Figure size 640x480 with 1 Axes>"
      ]
     },
     "metadata": {},
     "output_type": "display_data"
    }
   ],
   "source": [
    "sns.barplot(x = df['date'], y = df['hours'])"
   ]
  },
  {
   "cell_type": "code",
   "execution_count": 9,
   "id": "81449b23",
   "metadata": {
    "execution": {
     "iopub.execute_input": "2023-12-15T17:33:26.691334Z",
     "iopub.status.busy": "2023-12-15T17:33:26.690904Z",
     "iopub.status.idle": "2023-12-15T17:33:26.879912Z",
     "shell.execute_reply": "2023-12-15T17:33:26.878532Z"
    },
    "papermill": {
     "duration": 0.201337,
     "end_time": "2023-12-15T17:33:26.884511",
     "exception": false,
     "start_time": "2023-12-15T17:33:26.683174",
     "status": "completed"
    },
    "tags": []
   },
   "outputs": [
    {
     "data": {
      "image/png": "[encoded data removed]",
      "text/plain": [
       "<Figure size 640x480 with 1 Axes>"
      ]
     },
     "metadata": {},
     "output_type": "display_data"
    }
   ],
   "source": [
    "completed = df['hours'].sum()\n",
    "remaining = 390 - completed\n",
    "\n",
    "# Seaborn style settings (optional but can enhance aesthetics)\n",
    "sns.set(style=\"whitegrid\")\n",
    "\n",
    "# Data for the donut chart\n",
    "sizes = [completed, remaining]\n",
    "labels = ['Completed', 'Remaining']\n",
    "colors = ['green', 'red']  # Specify colors for completed and remaining portions\n",
    "\n",
    "# Create a donut chart using Matplotlib's plt.pie()\n",
    "plt.pie(sizes, labels=labels, autopct=lambda p: '{:.0f}'.format(p * sum(sizes) / 100), startangle=90, wedgeprops=dict(width=0.6), colors=colors)\n",
    "\n",
    "# Draw a circle in the center to create the hole\n",
    "centre_circle = plt.Circle((0, 0), 0.3, color='white', fc='white', linewidth=1.25)\n",
    "fig = plt.gcf()\n",
    "fig.gca().add_artist(centre_circle)\n",
    "\n",
    "# Equal aspect ratio ensures that pie is drawn as a circle.\n",
    "plt.axis('equal')\n",
    "\n",
    "# Title to represent the task\n",
    "plt.title('Progress')\n",
    "\n",
    "# Show the plot\n",
    "plt.show()"
   ]
  },
  {
   "cell_type": "code",
   "execution_count": 10,
   "id": "4762aea0",
   "metadata": {
    "execution": {
     "iopub.execute_input": "2023-12-15T17:33:26.917438Z",
     "iopub.status.busy": "2023-12-15T17:33:26.915597Z",
     "iopub.status.idle": "2023-12-15T17:33:27.402172Z",
     "shell.execute_reply": "2023-12-15T17:33:27.400987Z"
    },
    "papermill": {
     "duration": 0.505643,
     "end_time": "2023-12-15T17:33:27.404725",
     "exception": false,
     "start_time": "2023-12-15T17:33:26.899082",
     "status": "completed"
    },
    "tags": []
   },
   "outputs": [
    {
     "data": {
      "image/png": "[encoded data removed]",
      "text/plain": [
       "<Figure size 1000x600 with 1 Axes>"
      ]
     },
     "metadata": {},
     "output_type": "display_data"
    }
   ],
   "source": [
    "# Plotting the cumulative_hours column\n",
    "plt.figure(figsize=(10, 6))\n",
    "plt.plot(df['date'], df['cumulative_hours'], marker='o', linestyle='-', color='b')\n",
    "plt.title('Cumulative Hours Over Days')\n",
    "plt.xlabel('Date')\n",
    "plt.ylabel('Cumulative Hours')\n",
    "plt.xticks(rotation=45)\n",
    "plt.grid(True)\n",
    "plt.show()"
   ]
  },
  {
   "cell_type": "code",
   "execution_count": null,
   "id": "66cc356f",
   "metadata": {
    "papermill": {
     "duration": 0.007245,
     "end_time": "2023-12-15T17:33:27.419562",
     "exception": false,
     "start_time": "2023-12-15T17:33:27.412317",
     "status": "completed"
    },
    "tags": []
   },
   "outputs": [],
   "source": []
  }
 ],
 "metadata": {
  "kaggle": {
   "accelerator": "none",
   "dataSources": [],
   "dockerImageVersionId": 30615,
   "isGpuEnabled": false,
   "isInternetEnabled": true,
   "language": "python",
   "sourceType": "notebook"
  },
  "kernelspec": {
   "display_name": "Python 3",
   "language": "python",
   "name": "python3"
  },
  "language_info": {
   "codemirror_mode": {
    "name": "ipython",
    "version": 3
   },
   "file_extension": ".py",
   "mimetype": "text/x-python",
   "name": "python",
   "nbconvert_exporter": "python",
   "pygments_lexer": "ipython3",
   "version": "3.10.12"
  },
  "papermill": {
   "default_parameters": {},
   "duration": 9.569225,
   "end_time": "2023-12-15T17:33:28.049913",
   "environment_variables": {},
   "exception": null,
   "input_path": "__notebook__.ipynb",
   "output_path": "__notebook__.ipynb",
   "parameters": {},
   "start_time": "2023-12-15T17:33:18.480688",
   "version": "2.4.0"
  }
 },
 "nbformat": 4,
 "nbformat_minor": 5
}
