{
 "cells": [
  {
   "cell_type": "code",
   "execution_count": 1,
   "id": "ed995c8f",
   "metadata": {
    "_cell_guid": "b1076dfc-b9ad-4769-8c92-a6c4dae69d19",
    "_uuid": "8f2839f25d086af736a60e9eeb907d3b93b6e0e5",
    "execution": {
     "iopub.execute_input": "2023-12-22T01:55:13.772626Z",
     "iopub.status.busy": "2023-12-22T01:55:13.771760Z",
     "iopub.status.idle": "2023-12-22T01:55:14.301296Z",
     "shell.execute_reply": "2023-12-22T01:55:14.299809Z"
    },
    "papermill": {
     "duration": 0.538871,
     "end_time": "2023-12-22T01:55:14.304481",
     "exception": false,
     "start_time": "2023-12-22T01:55:13.765610",
     "status": "completed"
    },
    "tags": []
   },
   "outputs": [],
   "source": [
    "import pandas as pd"
   ]
  },
  {
   "cell_type": "markdown",
   "id": "a0701140",
   "metadata": {
    "papermill": {
     "duration": 0.002544,
     "end_time": "2023-12-22T01:55:14.310209",
     "exception": false,
     "start_time": "2023-12-22T01:55:14.307665",
     "status": "completed"
    },
    "tags": []
   },
   "source": [
    "# leetcode proplems to review:\n",
    "1. Reshape Data: Pivot"
   ]
  },
  {
   "cell_type": "code",
   "execution_count": 2,
   "id": "af6be28c",
   "metadata": {
    "execution": {
     "iopub.execute_input": "2023-12-22T01:55:14.317816Z",
     "iopub.status.busy": "2023-12-22T01:55:14.317110Z",
     "iopub.status.idle": "2023-12-22T01:55:14.345525Z",
     "shell.execute_reply": "2023-12-22T01:55:14.344091Z"
    },
    "papermill": {
     "duration": 0.035757,
     "end_time": "2023-12-22T01:55:14.348539",
     "exception": false,
     "start_time": "2023-12-22T01:55:14.312782",
     "status": "completed"
    },
    "tags": []
   },
   "outputs": [
    {
     "data": {
      "text/html": [
       "<div>\n",
       "<style scoped>\n",
       "    .dataframe tbody tr th:only-of-type {\n",
       "        vertical-align: middle;\n",
       "    }\n",
       "\n",
       "    .dataframe tbody tr th {\n",
       "        vertical-align: top;\n",
       "    }\n",
       "\n",
       "    .dataframe thead th {\n",
       "        text-align: right;\n",
       "    }\n",
       "</style>\n",
       "<table border=\"1\" class=\"dataframe\">\n",
       "  <thead>\n",
       "    <tr style=\"text-align: right;\">\n",
       "      <th></th>\n",
       "      <th>student_id</th>\n",
       "      <th>age</th>\n",
       "    </tr>\n",
       "  </thead>\n",
       "  <tbody>\n",
       "    <tr>\n",
       "      <th>0</th>\n",
       "      <td>1</td>\n",
       "      <td>15</td>\n",
       "    </tr>\n",
       "    <tr>\n",
       "      <th>1</th>\n",
       "      <td>2</td>\n",
       "      <td>11</td>\n",
       "    </tr>\n",
       "    <tr>\n",
       "      <th>2</th>\n",
       "      <td>3</td>\n",
       "      <td>11</td>\n",
       "    </tr>\n",
       "    <tr>\n",
       "      <th>3</th>\n",
       "      <td>4</td>\n",
       "      <td>20</td>\n",
       "    </tr>\n",
       "  </tbody>\n",
       "</table>\n",
       "</div>"
      ],
      "text/plain": [
       "   student_id  age\n",
       "0           1   15\n",
       "1           2   11\n",
       "2           3   11\n",
       "3           4   20"
      ]
     },
     "execution_count": 2,
     "metadata": {},
     "output_type": "execute_result"
    }
   ],
   "source": [
    "student_data = [\n",
    "    [1, 15],\n",
    "    [2, 11],\n",
    "    [3, 11],\n",
    "    [4, 20]\n",
    "    ]\n",
    "data = pd.DataFrame(student_data, columns = ['student_id', 'age'])\n",
    "\n",
    "df = pd.DataFrame(data)\n",
    "df"
   ]
  },
  {
   "cell_type": "code",
   "execution_count": 3,
   "id": "34b734a2",
   "metadata": {
    "execution": {
     "iopub.execute_input": "2023-12-22T01:55:14.356865Z",
     "iopub.status.busy": "2023-12-22T01:55:14.355878Z",
     "iopub.status.idle": "2023-12-22T01:55:14.381702Z",
     "shell.execute_reply": "2023-12-22T01:55:14.380317Z"
    },
    "papermill": {
     "duration": 0.032723,
     "end_time": "2023-12-22T01:55:14.384303",
     "exception": false,
     "start_time": "2023-12-22T01:55:14.351580",
     "status": "completed"
    },
    "tags": []
   },
   "outputs": [
    {
     "data": {
      "text/html": [
       "<div>\n",
       "<style scoped>\n",
       "    .dataframe tbody tr th:only-of-type {\n",
       "        vertical-align: middle;\n",
       "    }\n",
       "\n",
       "    .dataframe tbody tr th {\n",
       "        vertical-align: top;\n",
       "    }\n",
       "\n",
       "    .dataframe thead th {\n",
       "        text-align: right;\n",
       "    }\n",
       "</style>\n",
       "<table border=\"1\" class=\"dataframe\">\n",
       "  <thead>\n",
       "    <tr style=\"text-align: right;\">\n",
       "      <th></th>\n",
       "      <th>age</th>\n",
       "    </tr>\n",
       "  </thead>\n",
       "  <tbody>\n",
       "    <tr>\n",
       "      <th>1</th>\n",
       "      <td>11</td>\n",
       "    </tr>\n",
       "  </tbody>\n",
       "</table>\n",
       "</div>"
      ],
      "text/plain": [
       "   age\n",
       "1   11"
      ]
     },
     "execution_count": 3,
     "metadata": {},
     "output_type": "execute_result"
    }
   ],
   "source": [
    "df.query('student_id == 2').drop('student_id', axis = 1)"
   ]
  },
  {
   "cell_type": "code",
   "execution_count": null,
   "id": "b763426f",
   "metadata": {
    "papermill": {
     "duration": 0.00309,
     "end_time": "2023-12-22T01:55:14.390907",
     "exception": false,
     "start_time": "2023-12-22T01:55:14.387817",
     "status": "completed"
    },
    "tags": []
   },
   "outputs": [],
   "source": []
  }
 ],
 "metadata": {
  "kaggle": {
   "accelerator": "none",
   "dataSources": [],
   "dockerImageVersionId": 30626,
   "isGpuEnabled": false,
   "isInternetEnabled": true,
   "language": "python",
   "sourceType": "notebook"
  },
  "kernelspec": {
   "display_name": "Python 3",
   "language": "python",
   "name": "python3"
  },
  "language_info": {
   "codemirror_mode": {
    "name": "ipython",
    "version": 3
   },
   "file_extension": ".py",
   "mimetype": "text/x-python",
   "name": "python",
   "nbconvert_exporter": "python",
   "pygments_lexer": "ipython3",
   "version": "3.10.12"
  },
  "papermill": {
   "default_parameters": {},
   "duration": 4.658394,
   "end_time": "2023-12-22T01:55:14.916315",
   "environment_variables": {},
   "exception": null,
   "input_path": "__notebook__.ipynb",
   "output_path": "__notebook__.ipynb",
   "parameters": {},
   "start_time": "2023-12-22T01:55:10.257921",
   "version": "2.4.0"
  }
 },
 "nbformat": 4,
 "nbformat_minor": 5
}
